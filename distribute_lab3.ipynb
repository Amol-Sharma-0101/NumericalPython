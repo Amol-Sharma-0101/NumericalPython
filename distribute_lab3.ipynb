{
  "nbformat": 4,
  "nbformat_minor": 0,
  "metadata": {
    "kernelspec": {
      "display_name": "Python 3",
      "language": "python",
      "name": "python3"
    },
    "language_info": {
      "codemirror_mode": {
        "name": "ipython",
        "version": 3
      },
      "file_extension": ".py",
      "mimetype": "text/x-python",
      "name": "python",
      "nbconvert_exporter": "python",
      "pygments_lexer": "ipython3",
      "version": "3.7.6"
    },
    "colab": {
      "name": "distribute_lab3.ipynb",
      "provenance": [],
      "include_colab_link": true
    }
  },
  "cells": [
    {
      "cell_type": "markdown",
      "metadata": {
        "id": "view-in-github",
        "colab_type": "text"
      },
      "source": [
        "<a href=\"https://colab.research.google.com/github/Amol-Sharma-0101/NumericalPython/blob/main/distribute_lab3.ipynb\" target=\"_parent\"><img src=\"https://colab.research.google.com/assets/colab-badge.svg\" alt=\"Open In Colab\"/></a>"
      ]
    },
    {
      "cell_type": "markdown",
      "metadata": {
        "id": "Jq4ecK-tBbae"
      },
      "source": [
        "# Lab3: Plotting"
      ]
    },
    {
      "cell_type": "code",
      "metadata": {
        "id": "fJ8vGgxTBbas"
      },
      "source": [
        "%matplotlib inline\n",
        "import numpy as np\n",
        "import pandas as pd\n",
        "import matplotlib.pyplot as plt"
      ],
      "execution_count": 3,
      "outputs": []
    },
    {
      "cell_type": "code",
      "metadata": {
        "id": "vcilDh33BgOu",
        "outputId": "4c03fa83-0bef-4a42-cb80-22bd20d24184",
        "colab": {
          "base_uri": "https://localhost:8080/"
        }
      },
      "source": [
        "!wget https://raw.githubusercontent.com/univai-pyprep-c1/NumericalPython/main/data/mtcars.csv"
      ],
      "execution_count": 4,
      "outputs": [
        {
          "output_type": "stream",
          "text": [
            "--2020-12-20 07:26:35--  https://raw.githubusercontent.com/univai-pyprep-c1/NumericalPython/main/data/mtcars.csv\n",
            "Resolving raw.githubusercontent.com (raw.githubusercontent.com)... 151.101.0.133, 151.101.64.133, 151.101.128.133, ...\n",
            "Connecting to raw.githubusercontent.com (raw.githubusercontent.com)|151.101.0.133|:443... connected.\n",
            "HTTP request sent, awaiting response... 200 OK\n",
            "Length: 1783 (1.7K) [text/plain]\n",
            "Saving to: ‘mtcars.csv.1’\n",
            "\n",
            "\rmtcars.csv.1          0%[                    ]       0  --.-KB/s               \rmtcars.csv.1        100%[===================>]   1.74K  --.-KB/s    in 0s      \n",
            "\n",
            "2020-12-20 07:26:35 (5.45 MB/s) - ‘mtcars.csv.1’ saved [1783/1783]\n",
            "\n"
          ],
          "name": "stdout"
        }
      ]
    },
    {
      "cell_type": "markdown",
      "metadata": {
        "id": "1cwRjq-fBbau"
      },
      "source": [
        "````` \n",
        "Description\n",
        "The data was extracted from the 1974 Motor Trend US magazine, and comprises fuel consumption and ten aspects of automobile design and performance for 32 automobiles (1973–74 models).\n",
        "\n",
        "Format\n",
        "\n",
        "A data frame with 32 observations on 11 variables.\n",
        "\n",
        "[, 1]\tmpg\t     Miles/(US) gallon\n",
        "[, 2]\tcyl\t     Number of cylinders\n",
        "[, 3]\tdisp\t Displacement (cu.in.)\n",
        "[, 4]\thp\t     Gross horsepower\n",
        "[, 5]\tdrat\t Rear axle ratio\n",
        "[, 6]\twt\t     Weight (1000 lbs)\n",
        "[, 7]\tqsec\t 1/4 mile time\n",
        "[, 8]\tvs\t     V/S\n",
        "[, 9]\tam\t     Transmission (0 = automatic, 1 = manual)\n",
        "[,10]\tgear\t Number of forward gears\n",
        "[,11]\tcarb\t Number of carburetors\n",
        "        \n",
        "Source\n",
        "Henderson and Velleman (1981), Building multiple regression models interactively. Biometrics, 37, 391–411.\n",
        "`````"
      ]
    },
    {
      "cell_type": "code",
      "metadata": {
        "id": "R9g5TirSBbau",
        "outputId": "ff60cb74-67a0-4657-d936-9782e9209846",
        "colab": {
          "base_uri": "https://localhost:8080/",
          "height": 195
        }
      },
      "source": [
        "# Read in the csv files\n",
        "dfcars=pd.read_csv(\"mtcars.csv\")\n",
        "dfcars.head()"
      ],
      "execution_count": 6,
      "outputs": [
        {
          "output_type": "execute_result",
          "data": {
            "text/html": [
              "<div>\n",
              "<style scoped>\n",
              "    .dataframe tbody tr th:only-of-type {\n",
              "        vertical-align: middle;\n",
              "    }\n",
              "\n",
              "    .dataframe tbody tr th {\n",
              "        vertical-align: top;\n",
              "    }\n",
              "\n",
              "    .dataframe thead th {\n",
              "        text-align: right;\n",
              "    }\n",
              "</style>\n",
              "<table border=\"1\" class=\"dataframe\">\n",
              "  <thead>\n",
              "    <tr style=\"text-align: right;\">\n",
              "      <th></th>\n",
              "      <th>Unnamed: 0</th>\n",
              "      <th>mpg</th>\n",
              "      <th>cyl</th>\n",
              "      <th>disp</th>\n",
              "      <th>hp</th>\n",
              "      <th>drat</th>\n",
              "      <th>wt</th>\n",
              "      <th>qsec</th>\n",
              "      <th>vs</th>\n",
              "      <th>am</th>\n",
              "      <th>gear</th>\n",
              "      <th>carb</th>\n",
              "    </tr>\n",
              "  </thead>\n",
              "  <tbody>\n",
              "    <tr>\n",
              "      <th>0</th>\n",
              "      <td>Mazda RX4</td>\n",
              "      <td>21.0</td>\n",
              "      <td>6</td>\n",
              "      <td>160.0</td>\n",
              "      <td>110</td>\n",
              "      <td>3.90</td>\n",
              "      <td>2.620</td>\n",
              "      <td>16.46</td>\n",
              "      <td>0</td>\n",
              "      <td>1</td>\n",
              "      <td>4</td>\n",
              "      <td>4</td>\n",
              "    </tr>\n",
              "    <tr>\n",
              "      <th>1</th>\n",
              "      <td>Mazda RX4 Wag</td>\n",
              "      <td>21.0</td>\n",
              "      <td>6</td>\n",
              "      <td>160.0</td>\n",
              "      <td>110</td>\n",
              "      <td>3.90</td>\n",
              "      <td>2.875</td>\n",
              "      <td>17.02</td>\n",
              "      <td>0</td>\n",
              "      <td>1</td>\n",
              "      <td>4</td>\n",
              "      <td>4</td>\n",
              "    </tr>\n",
              "    <tr>\n",
              "      <th>2</th>\n",
              "      <td>Datsun 710</td>\n",
              "      <td>22.8</td>\n",
              "      <td>4</td>\n",
              "      <td>108.0</td>\n",
              "      <td>93</td>\n",
              "      <td>3.85</td>\n",
              "      <td>2.320</td>\n",
              "      <td>18.61</td>\n",
              "      <td>1</td>\n",
              "      <td>1</td>\n",
              "      <td>4</td>\n",
              "      <td>1</td>\n",
              "    </tr>\n",
              "    <tr>\n",
              "      <th>3</th>\n",
              "      <td>Hornet 4 Drive</td>\n",
              "      <td>21.4</td>\n",
              "      <td>6</td>\n",
              "      <td>258.0</td>\n",
              "      <td>110</td>\n",
              "      <td>3.08</td>\n",
              "      <td>3.215</td>\n",
              "      <td>19.44</td>\n",
              "      <td>1</td>\n",
              "      <td>0</td>\n",
              "      <td>3</td>\n",
              "      <td>1</td>\n",
              "    </tr>\n",
              "    <tr>\n",
              "      <th>4</th>\n",
              "      <td>Hornet Sportabout</td>\n",
              "      <td>18.7</td>\n",
              "      <td>8</td>\n",
              "      <td>360.0</td>\n",
              "      <td>175</td>\n",
              "      <td>3.15</td>\n",
              "      <td>3.440</td>\n",
              "      <td>17.02</td>\n",
              "      <td>0</td>\n",
              "      <td>0</td>\n",
              "      <td>3</td>\n",
              "      <td>2</td>\n",
              "    </tr>\n",
              "  </tbody>\n",
              "</table>\n",
              "</div>"
            ],
            "text/plain": [
              "          Unnamed: 0   mpg  cyl   disp   hp  ...   qsec  vs  am  gear  carb\n",
              "0          Mazda RX4  21.0    6  160.0  110  ...  16.46   0   1     4     4\n",
              "1      Mazda RX4 Wag  21.0    6  160.0  110  ...  17.02   0   1     4     4\n",
              "2         Datsun 710  22.8    4  108.0   93  ...  18.61   1   1     4     1\n",
              "3     Hornet 4 Drive  21.4    6  258.0  110  ...  19.44   1   0     3     1\n",
              "4  Hornet Sportabout  18.7    8  360.0  175  ...  17.02   0   0     3     2\n",
              "\n",
              "[5 rows x 12 columns]"
            ]
          },
          "metadata": {
            "tags": []
          },
          "execution_count": 6
        }
      ]
    },
    {
      "cell_type": "code",
      "metadata": {
        "id": "PIMyo_0aBbav",
        "outputId": "247beee2-fd35-4149-9980-66a9ea040541",
        "colab": {
          "base_uri": "https://localhost:8080/",
          "height": 195
        }
      },
      "source": [
        "dfcars = dfcars.rename(columns={\"Unnamed: 0\": \"name\"})\n",
        "dfcars.head()"
      ],
      "execution_count": 7,
      "outputs": [
        {
          "output_type": "execute_result",
          "data": {
            "text/html": [
              "<div>\n",
              "<style scoped>\n",
              "    .dataframe tbody tr th:only-of-type {\n",
              "        vertical-align: middle;\n",
              "    }\n",
              "\n",
              "    .dataframe tbody tr th {\n",
              "        vertical-align: top;\n",
              "    }\n",
              "\n",
              "    .dataframe thead th {\n",
              "        text-align: right;\n",
              "    }\n",
              "</style>\n",
              "<table border=\"1\" class=\"dataframe\">\n",
              "  <thead>\n",
              "    <tr style=\"text-align: right;\">\n",
              "      <th></th>\n",
              "      <th>name</th>\n",
              "      <th>mpg</th>\n",
              "      <th>cyl</th>\n",
              "      <th>disp</th>\n",
              "      <th>hp</th>\n",
              "      <th>drat</th>\n",
              "      <th>wt</th>\n",
              "      <th>qsec</th>\n",
              "      <th>vs</th>\n",
              "      <th>am</th>\n",
              "      <th>gear</th>\n",
              "      <th>carb</th>\n",
              "    </tr>\n",
              "  </thead>\n",
              "  <tbody>\n",
              "    <tr>\n",
              "      <th>0</th>\n",
              "      <td>Mazda RX4</td>\n",
              "      <td>21.0</td>\n",
              "      <td>6</td>\n",
              "      <td>160.0</td>\n",
              "      <td>110</td>\n",
              "      <td>3.90</td>\n",
              "      <td>2.620</td>\n",
              "      <td>16.46</td>\n",
              "      <td>0</td>\n",
              "      <td>1</td>\n",
              "      <td>4</td>\n",
              "      <td>4</td>\n",
              "    </tr>\n",
              "    <tr>\n",
              "      <th>1</th>\n",
              "      <td>Mazda RX4 Wag</td>\n",
              "      <td>21.0</td>\n",
              "      <td>6</td>\n",
              "      <td>160.0</td>\n",
              "      <td>110</td>\n",
              "      <td>3.90</td>\n",
              "      <td>2.875</td>\n",
              "      <td>17.02</td>\n",
              "      <td>0</td>\n",
              "      <td>1</td>\n",
              "      <td>4</td>\n",
              "      <td>4</td>\n",
              "    </tr>\n",
              "    <tr>\n",
              "      <th>2</th>\n",
              "      <td>Datsun 710</td>\n",
              "      <td>22.8</td>\n",
              "      <td>4</td>\n",
              "      <td>108.0</td>\n",
              "      <td>93</td>\n",
              "      <td>3.85</td>\n",
              "      <td>2.320</td>\n",
              "      <td>18.61</td>\n",
              "      <td>1</td>\n",
              "      <td>1</td>\n",
              "      <td>4</td>\n",
              "      <td>1</td>\n",
              "    </tr>\n",
              "    <tr>\n",
              "      <th>3</th>\n",
              "      <td>Hornet 4 Drive</td>\n",
              "      <td>21.4</td>\n",
              "      <td>6</td>\n",
              "      <td>258.0</td>\n",
              "      <td>110</td>\n",
              "      <td>3.08</td>\n",
              "      <td>3.215</td>\n",
              "      <td>19.44</td>\n",
              "      <td>1</td>\n",
              "      <td>0</td>\n",
              "      <td>3</td>\n",
              "      <td>1</td>\n",
              "    </tr>\n",
              "    <tr>\n",
              "      <th>4</th>\n",
              "      <td>Hornet Sportabout</td>\n",
              "      <td>18.7</td>\n",
              "      <td>8</td>\n",
              "      <td>360.0</td>\n",
              "      <td>175</td>\n",
              "      <td>3.15</td>\n",
              "      <td>3.440</td>\n",
              "      <td>17.02</td>\n",
              "      <td>0</td>\n",
              "      <td>0</td>\n",
              "      <td>3</td>\n",
              "      <td>2</td>\n",
              "    </tr>\n",
              "  </tbody>\n",
              "</table>\n",
              "</div>"
            ],
            "text/plain": [
              "                name   mpg  cyl   disp   hp  ...   qsec  vs  am  gear  carb\n",
              "0          Mazda RX4  21.0    6  160.0  110  ...  16.46   0   1     4     4\n",
              "1      Mazda RX4 Wag  21.0    6  160.0  110  ...  17.02   0   1     4     4\n",
              "2         Datsun 710  22.8    4  108.0   93  ...  18.61   1   1     4     1\n",
              "3     Hornet 4 Drive  21.4    6  258.0  110  ...  19.44   1   0     3     1\n",
              "4  Hornet Sportabout  18.7    8  360.0  175  ...  17.02   0   0     3     2\n",
              "\n",
              "[5 rows x 12 columns]"
            ]
          },
          "metadata": {
            "tags": []
          },
          "execution_count": 7
        }
      ]
    },
    {
      "cell_type": "markdown",
      "metadata": {
        "id": "ilMfDBgVBbav"
      },
      "source": [
        "From the `mpg` column, make a histogram using pandas. Label the x-and y-axes."
      ]
    },
    {
      "cell_type": "code",
      "metadata": {
        "id": "_LWcEO9zBbav",
        "outputId": "0b220b6d-a9d1-49d0-8de7-f5d621bafdc4",
        "colab": {
          "base_uri": "https://localhost:8080/",
          "height": 297
        }
      },
      "source": [
        "# your code here\n",
        "dfcars.mpg.hist()\n",
        "plt.xlabel(\"Miles per Gallon\")\n",
        "plt.ylabel(\"Frequency\")\n",
        "plt.title(\"Histogram\")\n",
        "plt.tight_layout()"
      ],
      "execution_count": 13,
      "outputs": [
        {
          "output_type": "display_data",
          "data": {
            "image/png": "[encoded data removed]",
            "text/plain": [
              "<Figure size 432x288 with 1 Axes>"
            ]
          },
          "metadata": {
            "tags": [],
            "needs_background": "light"
          }
        }
      ]
    },
    {
      "cell_type": "markdown",
      "metadata": {
        "id": "A8Qsg3xgBbaw"
      },
      "source": [
        "Repeat the process using matplotlib, using 20 bins"
      ]
    },
    {
      "cell_type": "code",
      "metadata": {
        "id": "jC6hHWupBbaw",
        "outputId": "126ff143-69a5-4781-f173-b9493873b077",
        "colab": {
          "base_uri": "https://localhost:8080/",
          "height": 265
        }
      },
      "source": [
        "# your code here\n",
        "plt.hist(dfcars.mpg.values,bins=20);"
      ],
      "execution_count": 26,
      "outputs": [
        {
          "output_type": "display_data",
          "data": {
            "image/png": "[encoded data removed]",
            "text/plain": [
              "<Figure size 432x288 with 1 Axes>"
            ]
          },
          "metadata": {
            "tags": [],
            "needs_background": "light"
          }
        }
      ]
    },
    {
      "cell_type": "markdown",
      "metadata": {
        "id": "rT5SRinPBbaw"
      },
      "source": [
        "Add a red vertical line at the mean `mpg` over the dataset. See the docs for `plt.axvline`. Also add a legend to the picture. For this, make sure the `axvline` has a label keyword argument and add as the last line `plt.legend();`"
      ]
    },
    {
      "cell_type": "code",
      "metadata": {
        "id": "tSBFNpxzBbaw",
        "outputId": "c24683fa-e29f-47a0-d83f-99220285d4ea",
        "colab": {
          "base_uri": "https://localhost:8080/",
          "height": 265
        }
      },
      "source": [
        "# your code here\n",
        "plt.hist(dfcars.mpg,bins=20)\n",
        "plt.axvline(dfcars.mpg.mean(),0,1,color='r',label='Mean mpg');"
      ],
      "execution_count": 18,
      "outputs": [
        {
          "output_type": "display_data",
          "data": {
            "image/png": "[encoded data removed]",
            "text/plain": [
              "<Figure size 432x288 with 1 Axes>"
            ]
          },
          "metadata": {
            "tags": [],
            "needs_background": "light"
          }
        }
      ]
    },
    {
      "cell_type": "markdown",
      "metadata": {
        "id": "NNdLVv4HBbax"
      },
      "source": [
        "### Scatter plots\n",
        "We often want to see co-variation among our columns, for example, miles/gallon versus weight.  This can be done with a scatter plot. Plot weight on the x-axis against miles per gallon on the y axis."
      ]
    },
    {
      "cell_type": "code",
      "metadata": {
        "id": "udWbtbD7Bbax",
        "outputId": "a1734494-f409-4bb3-9987-56f6190dce37",
        "colab": {
          "base_uri": "https://localhost:8080/",
          "height": 283
        }
      },
      "source": [
        "plt.scatter(dfcars.wt, dfcars.mpg);\n",
        "plt.xlabel(\"weight\");\n",
        "plt.ylabel(\"miles per gallon\");"
      ],
      "execution_count": 19,
      "outputs": [
        {
          "output_type": "display_data",
          "data": {
            "image/png": "[encoded data removed]",
            "text/plain": [
              "<Figure size 432x288 with 1 Axes>"
            ]
          },
          "metadata": {
            "tags": [],
            "needs_background": "light"
          }
        }
      ]
    },
    {
      "cell_type": "markdown",
      "metadata": {
        "id": "WJ55Q8I3Bbax"
      },
      "source": [
        "Use `plt.plot` to do this plot instead:"
      ]
    },
    {
      "cell_type": "code",
      "metadata": {
        "id": "UkiQGYHOBbay",
        "outputId": "199cfbd7-3f10-4388-dcd1-26e846be1a9e",
        "colab": {
          "base_uri": "https://localhost:8080/",
          "height": 283
        }
      },
      "source": [
        "plt.plot(dfcars.wt, dfcars.mpg);\n",
        "plt.xlabel(\"weight\");\n",
        "plt.ylabel(\"miles per gallon\");"
      ],
      "execution_count": 20,
      "outputs": [
        {
          "output_type": "display_data",
          "data": {
            "image/png": "[encoded data removed]",
            "text/plain": [
              "<Figure size 432x288 with 1 Axes>"
            ]
          },
          "metadata": {
            "tags": [],
            "needs_background": "light"
          }
        }
      ]
    },
    {
      "cell_type": "markdown",
      "metadata": {
        "id": "qvwD_ClsBbay"
      },
      "source": [
        "Fix this plot to not look like spagetti"
      ]
    },
    {
      "cell_type": "code",
      "metadata": {
        "id": "Vw2wBd9SBbay",
        "outputId": "1a8d41d9-9fc0-491b-df71-85deecac535c",
        "colab": {
          "base_uri": "https://localhost:8080/",
          "height": 283
        }
      },
      "source": [
        "# your code here\n",
        "new_df=dfcars[['wt','mpg']]\n",
        "sort_df=new_df.sort_values('wt')\n",
        "plt.plot(sort_df.wt,sort_df.mpg,'o-')\n",
        "plt.xlabel(\"X\")\n",
        "plt.ylabel(\"Y\");"
      ],
      "execution_count": 25,
      "outputs": [
        {
          "output_type": "display_data",
          "data": {
            "image/png": "[encoded data removed]",
            "text/plain": [
              "<Figure size 432x288 with 1 Axes>"
            ]
          },
          "metadata": {
            "tags": [],
            "needs_background": "light"
          }
        }
      ]
    },
    {
      "cell_type": "markdown",
      "metadata": {
        "id": "NDg3qaekBbay"
      },
      "source": [
        "What if you wanted to have the lines shown in the previous plot. What manipulation would you need to make to the dataframe to make this happen?"
      ]
    },
    {
      "cell_type": "code",
      "metadata": {
        "id": "WEtdAdCCBbay"
      },
      "source": [
        "# your code here\n"
      ],
      "execution_count": null,
      "outputs": []
    }
  ]
}